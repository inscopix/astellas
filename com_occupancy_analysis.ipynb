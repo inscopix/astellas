{
 "cells": [
  {
   "cell_type": "code",
   "execution_count": null,
   "metadata": {},
   "outputs": [],
   "source": [
    "import os\n",
    "import time\n",
    "import pickle\n",
    "\n",
    "import cv2\n",
    "\n",
    "import pandas as pd\n",
    "import numpy as np\n",
    "import matplotlib.pyplot as plt\n",
    "\n",
    "from scipy import stats\n",
    "from scipy import ndimage as nd\n",
    "from skimage import transform\n",
    "from tqdm.notebook import tqdm\n",
    "\n",
    "from astellaslib import *\n",
    "\n",
    "#import isx"
   ]
  },
  {
   "cell_type": "markdown",
   "metadata": {},
   "source": [
    "## Gather data from spreadsheet"
   ]
  },
  {
   "cell_type": "code",
   "execution_count": null,
   "metadata": {},
   "outputs": [],
   "source": [
    "log_fn = '/home/mmiller/Downloads/Experimental Log - Sheet1.csv'\n",
    "log_df = pd.read_csv(log_fn)\n",
    "log_df.head()"
   ]
  },
  {
   "cell_type": "code",
   "execution_count": null,
   "metadata": {},
   "outputs": [],
   "source": [
    "#behavior_dir = '/home/mmiller/Documents/data/astellas/fmr1ko_linear_social/April2020_FMR1_LinearSocial/'\n",
    "#behavior_dir = fix\n",
    "com_list = [i for i in os.listdir(behavior_dir) if os.path.splitext(i)[1] == '.csv']\n",
    "#print(com_list)\n"
   ]
  },
  {
   "cell_type": "code",
   "execution_count": null,
   "metadata": {},
   "outputs": [],
   "source": [
    "print(com_list)"
   ]
  },
  {
   "cell_type": "code",
   "execution_count": null,
   "metadata": {},
   "outputs": [],
   "source": [
    "print(log_df.subject_ID.values)"
   ]
  },
  {
   "cell_type": "code",
   "execution_count": null,
   "metadata": {},
   "outputs": [],
   "source": [
    "log_df.condition.unique()"
   ]
  },
  {
   "cell_type": "code",
   "execution_count": null,
   "metadata": {},
   "outputs": [],
   "source": [
    "vid_df = log_df[['subject_ID', 'genotype','data_dir_behavior','condition', 'behav_data_basename', 'novel_side']].loc[\n",
    "    (~log_df.behav_data_basename.isna()) & (log_df.condition.isin(['linear_social'])) & (log_df.virus.isin(['naive']))].copy()"
   ]
  },
  {
   "cell_type": "code",
   "execution_count": null,
   "metadata": {},
   "outputs": [],
   "source": [
    "vid_df"
   ]
  },
  {
   "cell_type": "markdown",
   "metadata": {},
   "source": [
    "### Examine frames from videos for spot checking etc :"
   ]
  },
  {
   "cell_type": "code",
   "execution_count": null,
   "metadata": {},
   "outputs": [],
   "source": [
    "subj_ids = vid_df.subject_ID.unique()\n",
    "print(vid_df.behav_data_basename.loc[vid_df.subject_ID==subj_ids[0]].values[0]+'_COM.mp4')\n",
    "print(subj_ids)"
   ]
  },
  {
   "cell_type": "code",
   "execution_count": null,
   "metadata": {},
   "outputs": [],
   "source": [
    "# examine behavior zones on example video:\n",
    "ds_fact = 1\n",
    "x_threshs = [95,230]\n",
    "subj_id = 0\n",
    "framei = int(60*20*7)\n"
   ]
  },
  {
   "cell_type": "code",
   "execution_count": null,
   "metadata": {},
   "outputs": [],
   "source": [
    "print(vid_df.data_dir_behavior.loc[vid_df.subject_ID==subj_ids[subj_id]].values[0])\n",
    "print(fix_data_path(vid_df.data_dir_behavior.loc[vid_df.subject_ID==subj_ids[subj_id]].values[0]))"
   ]
  },
  {
   "cell_type": "code",
   "execution_count": null,
   "metadata": {},
   "outputs": [],
   "source": [
    "# examine behavior zones on example video:\n",
    "\n",
    "#vid_fn = '/home/mmiller/Documents/data/astellas/fmr1ko_linear_social/April2020_FMR1_LinearSocial/behavior_2020-04-01-14-34-36_video_COM.mp4'\n",
    "behavior_dir = fix_data_path(vid_df.data_dir_behavior.loc[vid_df.subject_ID==subj_ids[subj_id]].values[0])\n",
    "vid_fn = behavior_dir + vid_df.behav_data_basename.loc[vid_df.subject_ID==subj_ids[subj_id]].values[0]+'_COM.mp4'\n",
    "print(subj_ids[subj_id])\n",
    "\n",
    "vid = cv2.VideoCapture(vid_fn)\n",
    "frame_height = vid.get(cv2.CAP_PROP_FRAME_HEIGHT)\n",
    "vid.set(1, framei)\n",
    "theframe = vid.read()[1]\n",
    "#grayscale = transform.downscale_local_mean( cv2.cvtColor(theframe,cv2.COLOR_BGR2GRAY).astype('uint8'), (ds_fact,ds_fact)).astype('uint8')\n",
    "vid.release()\n",
    "\n",
    "f,ax = plt.subplots(1,1,figsize=(20,5))\n",
    "ax.imshow(theframe,cmap='gray')\n",
    "ax.vlines(x_threshs, ymin=0, ymax=frame_height-1, color='salmon')\n",
    "plt.show()"
   ]
  },
  {
   "cell_type": "markdown",
   "metadata": {},
   "source": [
    "#### Optionally create / populate dictionary for target sides:"
   ]
  },
  {
   "cell_type": "code",
   "execution_count": null,
   "metadata": {},
   "outputs": [],
   "source": [
    "#test_side=dict()\n",
    "test_side[subj_ids[subj_id]] = 'l'\n",
    "print(test_side)"
   ]
  },
  {
   "cell_type": "markdown",
   "metadata": {},
   "source": [
    "## Load existing dict of target sides if available:"
   ]
  },
  {
   "cell_type": "code",
   "execution_count": null,
   "metadata": {},
   "outputs": [],
   "source": [
    "test_side_fn = 'target_sides_baclofen.pkl'\n",
    "test_side = pickle.load(open(test_side_fn, 'rb'))"
   ]
  },
  {
   "cell_type": "code",
   "execution_count": null,
   "metadata": {},
   "outputs": [],
   "source": [
    "test_side"
   ]
  },
  {
   "cell_type": "code",
   "execution_count": null,
   "metadata": {},
   "outputs": [],
   "source": [
    "subj_ids = vid_df.subject_ID.values\n",
    "print(subj_ids)"
   ]
  },
  {
   "cell_type": "code",
   "execution_count": null,
   "metadata": {},
   "outputs": [],
   "source": [
    "vid_df['novel_side'] = ''"
   ]
  },
  {
   "cell_type": "code",
   "execution_count": null,
   "metadata": {},
   "outputs": [],
   "source": [
    "for i in test_side:\n",
    "    print(i)\n",
    "    vid_df['novel_side'] = vid_df['subject_ID'].map(test_side[i])\n",
    "\n",
    "#vid_df['novel_side'] = vid_df['subject_ID'].map(test_side)"
   ]
  },
  {
   "cell_type": "code",
   "execution_count": null,
   "metadata": {},
   "outputs": [],
   "source": [
    "vid_df"
   ]
  },
  {
   "cell_type": "markdown",
   "metadata": {},
   "source": [
    "### Create dict for occupancy times:"
   ]
  },
  {
   "cell_type": "code",
   "execution_count": null,
   "metadata": {},
   "outputs": [],
   "source": [
    "the_cond = 'linear_social'\n",
    "\n",
    "## count l/r occupancy for each epoch for each subject:\n",
    "epoch_times = [0, int(5*60*20), int(15*60*20)]\n",
    "buffer_len = 30*20\n",
    "\n",
    "occupancy_dict = dict()\n",
    "\n",
    "\n",
    "for subj in np.unique(subj_ids):\n",
    "    print(subj)\n",
    "    com_fn = behavior_dir + vid_df.behav_data_basename.loc[(vid_df.subject_ID==subj) & (vid_df.condition == the_cond)].values[0]+'_COM.csv'\n",
    "    #print(com_fn)\n",
    "    the_com = np.loadtxt(com_fn, delimiter=',')\n",
    "    \n",
    "    the_epochs = list(np.copy(epoch_times))\n",
    "    the_epochs.append(len(the_com))\n",
    "    epoch_segs = [[i+buffer_len, j-buffer_len] for i,j in zip(the_epochs[0:-1], the_epochs[1:])]\n",
    "    \n",
    "    occupancy_times = []\n",
    "    for seg_i, seg in enumerate(epoch_segs):\n",
    "        print(seg)\n",
    "        left_time = int(sum(the_com[seg[0]:seg[1], 1] < x_threshs[0]))\n",
    "        right_time = int(sum(the_com[seg[0]:seg[1], 1] > x_threshs[1]))\n",
    "        #out_times[subj_i, seg_i, :] = [left_time, right_time]\n",
    "        \n",
    "        if seg_i == 0:\n",
    "            occupancy_times.append([left_time, right_time])\n",
    "            print('Habituation scores',left_time,right_time)        \n",
    "        \n",
    "        if seg_i == 1: \n",
    "            if vid_df.novel_side.loc[(vid_df.subject_ID == subj) & (vid_df.condition == the_cond)].values == 'l': # correctly order times to map social target position to the right ([object, pref])\n",
    "                occupancy_times.append([right_time, left_time])\n",
    "                print('remap scores:', right_time,left_time)\n",
    "            else:\n",
    "                occupancy_times.append([left_time, right_time])      \n",
    "                print('unmapped scores',left_time,right_time)\n",
    "        if seg_i == 2: \n",
    "            if vid_df.novel_side.loc[(vid_df.subject_ID == subj) & (vid_df.condition == the_cond)].values == 'l': # correctly order times to map novel target position to the right ([pref, novel])\n",
    "                occupancy_times.append([left_time, right_time])\n",
    "                print('unmapped scores:', left_time,right_time)\n",
    "            else:\n",
    "                occupancy_times.append([right_time, left_time])      \n",
    "                print('remapped scores',right_time, left_time)\n",
    "\n",
    "    occupancy_dict[subj] = occupancy_times\n",
    "    print('\\n')\n",
    "    \n",
    "print(occupancy_dict)"
   ]
  },
  {
   "cell_type": "code",
   "execution_count": null,
   "metadata": {},
   "outputs": [],
   "source": [
    "occupancy_dict"
   ]
  },
  {
   "cell_type": "markdown",
   "metadata": {},
   "source": [
    "### populate dataframe with occupancy scores:"
   ]
  },
  {
   "cell_type": "code",
   "execution_count": null,
   "metadata": {},
   "outputs": [],
   "source": [
    "\n",
    "habituation_times = {i:j[0] for i,j in zip(occupancy_dict.keys(), occupancy_dict.values())}\n",
    "print(habituation_times)\n",
    "\n",
    "\n",
    "pref_times = {i:occupancy_dict[i][1] for i in occupancy_dict}\n",
    "print(pref_times)\n",
    "\n",
    "novel_times = {i:occupancy_dict[i][2] for i in occupancy_dict}\n",
    "print(novel_times)\n",
    "\n"
   ]
  },
  {
   "cell_type": "code",
   "execution_count": null,
   "metadata": {},
   "outputs": [],
   "source": [
    "vid_df['habituation_counts'] = ''\n",
    "vid_df['pref_counts'] = ''\n",
    "vid_df['novel_counts'] = ''\n",
    "\n"
   ]
  },
  {
   "cell_type": "code",
   "execution_count": null,
   "metadata": {},
   "outputs": [],
   "source": [
    "vid_df['habituation_counts'].loc[(vid_df.condition == the_cond)] = vid_df['subject_ID'].map(habituation_times)\n",
    "vid_df['pref_counts'].loc[(vid_df.condition == the_cond)] = vid_df['subject_ID'].map(pref_times)\n",
    "vid_df['novel_counts'].loc[(vid_df.condition == the_cond)] = vid_df['subject_ID'].map(novel_times)"
   ]
  },
  {
   "cell_type": "code",
   "execution_count": null,
   "metadata": {},
   "outputs": [],
   "source": [
    "vid_df"
   ]
  },
  {
   "cell_type": "code",
   "execution_count": null,
   "metadata": {},
   "outputs": [],
   "source": [
    "vid_df.loc[(vid_df.condition == the_cond) & (vid_df.genotype == 'FMR1CTRL')]"
   ]
  },
  {
   "cell_type": "code",
   "execution_count": null,
   "metadata": {},
   "outputs": [],
   "source": [
    "vid_df.loc[(vid_df.condition == 'linear_social') & (vid_df.genotype == 'FMR1CTRL')]"
   ]
  },
  {
   "cell_type": "code",
   "execution_count": null,
   "metadata": {},
   "outputs": [],
   "source": [
    "print(vid_df.genotype.unique())"
   ]
  },
  {
   "cell_type": "markdown",
   "metadata": {},
   "source": [
    "### Plotting:"
   ]
  },
  {
   "cell_type": "code",
   "execution_count": null,
   "metadata": {},
   "outputs": [],
   "source": [
    "the_cond = 'linear_social'\n",
    "\n",
    "## plot / test occupancy:\n",
    "\n",
    "gtypes = vid_df.genotype.unique()\n",
    "cmap = plt.get_cmap('tab10')\n",
    "#cdict = dict(zip(gtypes, [cmap(i) for i in np.linspace(0, 1 , len(gtypes))]))\n",
    "cdict = dict(zip(gtypes, [cmap(i) for i in range(len(gtypes))][::-1]))\n",
    "\n",
    "f,ax = plt.subplots(1, 2, figsize = (20,5), sharey=True)\n",
    "\n",
    "for the_gtype,a in zip(gtypes,ax):\n",
    "    the_subjs = vid_df.subject_ID.loc[(vid_df.genotype == the_gtype) & (vid_df.condition == the_cond)]\n",
    "\n",
    "    for i in vid_df.habituation_counts.loc[(vid_df.subject_ID.isin(the_subjs)) & (vid_df.condition == the_cond) ]:\n",
    "        a.plot([1, 1.1], [j/20 for j in i], 'o-', color = cdict[the_gtype])\n",
    "    for i in vid_df.pref_counts.loc[(vid_df.subject_ID.isin(the_subjs)) & (vid_df.condition == the_cond)]:\n",
    "        a.plot([1.2, 1.3], [j/20 for j in i], 'o-', color = cdict[the_gtype])\n",
    "    for i in vid_df.novel_counts.loc[(vid_df.subject_ID.isin(the_subjs)) & (vid_df.condition == the_cond)]:\n",
    "        a.plot([1.4, 1.5], [j/20 for j in i], 'o-', color = cdict[the_gtype])\n",
    "        \n",
    "\n",
    "for a, gtype in zip(ax, gtypes):\n",
    "    a.set_title(gtype)\n",
    "    a.set_xticks([1, 1.1, 1.2, 1.3, 1.4, 1.5])\n",
    "    a.set_xticklabels(['left', 'right', 'object', 'conspecific 1', 'conspecific 1', 'conspecific 2'], rotation = 345, fontsize=12)\n",
    "    a.set_ylim(0,500)\n",
    "    a.set_yticks([0,250,500])\n",
    "    a.set_ylabel('occupancy time (s)', fontsize=12)\n",
    "    twoaxis(a)\n",
    "plt.show()\n",
    "\n",
    "\n"
   ]
  },
  {
   "cell_type": "code",
   "execution_count": null,
   "metadata": {},
   "outputs": [],
   "source": []
  }
 ],
 "metadata": {
  "kernelspec": {
   "display_name": "Python 3",
   "language": "python",
   "name": "python3"
  },
  "language_info": {
   "codemirror_mode": {
    "name": "ipython",
    "version": 3
   },
   "file_extension": ".py",
   "mimetype": "text/x-python",
   "name": "python",
   "nbconvert_exporter": "python",
   "pygments_lexer": "ipython3",
   "version": "3.6.10"
  }
 },
 "nbformat": 4,
 "nbformat_minor": 4
}
